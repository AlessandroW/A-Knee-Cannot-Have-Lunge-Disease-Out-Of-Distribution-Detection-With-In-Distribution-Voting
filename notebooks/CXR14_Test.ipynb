{
 "cells": [
  {
   "cell_type": "markdown",
   "id": "3ea71349-0277-46dc-a7a7-06269cd40b29",
   "metadata": {},
   "source": [
    "# Test Chest X-Ray 14 Classification\n",
    "\n",
    "Testing the trained models on the Chest X-Ray 14 test data."
   ]
  },
  {
   "cell_type": "code",
   "execution_count": 1,
   "id": "bdabb97c-8014-404d-a197-adb0db76fe5b",
   "metadata": {},
   "outputs": [],
   "source": [
    "from pathlib import Path\n",
    "import warnings\n",
    "\n",
    "import pytorch_lightning as pl\n",
    "import torch\n",
    "\n",
    "from idv.experiment import Experiment"
   ]
  },
  {
   "cell_type": "code",
   "execution_count": 2,
   "id": "c5cc39ce-cd02-4f18-aa26-ee33bffa9f11",
   "metadata": {},
   "outputs": [],
   "source": [
    "warnings.filterwarnings(\"ignore\", category=DeprecationWarning)"
   ]
  },
  {
   "cell_type": "markdown",
   "id": "b6a0a7ee-f09f-4bd4-b195-2bddf855d61a",
   "metadata": {},
   "source": [
    "## CheXnet"
   ]
  },
  {
   "cell_type": "code",
   "execution_count": 3,
   "id": "b82d2b0d-7519-405e-b403-6bfa8ceebec5",
   "metadata": {},
   "outputs": [],
   "source": [
    "e_chexnet = Experiment(model=\"chexnet/chexnet.ckpt\", \n",
    "                       hparams=\"chexnet/chexnet.yaml\")"
   ]
  },
  {
   "cell_type": "code",
   "execution_count": 4,
   "id": "7b582458-edbc-407c-970e-960757b94c0f",
   "metadata": {
    "tags": []
   },
   "outputs": [
    {
     "name": "stderr",
     "output_type": "stream",
     "text": [
      "[W Context.cpp:70] Warning: torch.use_deterministic_algorithms is in beta, and its design and functionality may change in the future. (function operator())\n",
      "GPU available: True, used: True\n",
      "TPU available: False, using: 0 TPU cores\n",
      "IPU available: False, using: 0 IPUs\n",
      "HPU available: False, using: 0 HPUs\n",
      "LOCAL_RANK: 0 - CUDA_VISIBLE_DEVICES: [0,1,2,3,4,5,6,7]\n"
     ]
    },
    {
     "data": {
      "application/vnd.jupyter.widget-view+json": {
       "model_id": "ec8c68dbb5ee4548a21ed3876126288e",
       "version_major": 2,
       "version_minor": 0
      },
      "text/plain": [
       "Testing: 0it [00:00, ?it/s]"
      ]
     },
     "metadata": {},
     "output_type": "display_data"
    },
    {
     "name": "stderr",
     "output_type": "stream",
     "text": [
      "/space/wollek/virtualenvs/a-knee-cannot-have-lung-disease/lib/python3.8/site-packages/torchmetrics/utilities/prints.py:36: UserWarning: `pos_label` automatically set 1.\n",
      "  warnings.warn(*args, **kwargs)\n"
     ]
    },
    {
     "name": "stdout",
     "output_type": "stream",
     "text": [
      "Saving predictions in /mnt/cephstorage/users-ssd/wollek/repositories/a-knee-cannot-have-lung-disease/notebooks/lightning_logs/version_14/checkpoints/epoch=0-step=0/test.pt\n",
      "────────────────────────────────────────────────────────────────────────────────────────────────────────────────────────\n",
      "       Test metric             DataLoader 0\n",
      "────────────────────────────────────────────────────────────────────────────────────────────────────────────────────────\n",
      "    Atelectasis/test        0.8158167004585266\n",
      "    Cardiomegaly/test       0.9089031219482422\n",
      "   Consolidation/test       0.8015962839126587\n",
      "       Edema/test           0.8806883096694946\n",
      "      Effusion/test         0.8776095509529114\n",
      "     Emphysema/test         0.9100750684738159\n",
      "      Fibrosis/test         0.8187764286994934\n",
      "       Hernia/test          0.9201209545135498\n",
      "    Infiltration/test       0.7083836197853088\n",
      "        Mass/test           0.8434146046638489\n",
      "       Nodule/test          0.7771060466766357\n",
      " Pleural_Thickening/test    0.7828282713890076\n",
      "     Pneumonia/test         0.7608471512794495\n",
      "    Pneumothorax/test       0.8627349734306335\n",
      "     loss/test_epoch        0.1522446721792221\n",
      "────────────────────────────────────────────────────────────────────────────────────────────────────────────────────────\n"
     ]
    },
    {
     "data": {
      "text/plain": [
       "[{'loss/test_epoch': 0.1522446721792221,\n",
       "  'Atelectasis/test': 0.8158167004585266,\n",
       "  'Cardiomegaly/test': 0.9089031219482422,\n",
       "  'Consolidation/test': 0.8015962839126587,\n",
       "  'Edema/test': 0.8806883096694946,\n",
       "  'Effusion/test': 0.8776095509529114,\n",
       "  'Emphysema/test': 0.9100750684738159,\n",
       "  'Fibrosis/test': 0.8187764286994934,\n",
       "  'Hernia/test': 0.9201209545135498,\n",
       "  'Infiltration/test': 0.7083836197853088,\n",
       "  'Mass/test': 0.8434146046638489,\n",
       "  'Nodule/test': 0.7771060466766357,\n",
       "  'Pleural_Thickening/test': 0.7828282713890076,\n",
       "  'Pneumonia/test': 0.7608471512794495,\n",
       "  'Pneumothorax/test': 0.8627349734306335}]"
      ]
     },
     "execution_count": 4,
     "metadata": {},
     "output_type": "execute_result"
    }
   ],
   "source": [
    "trainer = pl.Trainer(deterministic=True, gpus=\"7,\", max_epochs=1)\n",
    "trainer.test(e_chexnet.model, datamodule=e_chexnet.data)"
   ]
  },
  {
   "cell_type": "markdown",
   "id": "d38c5ca3-b97e-4558-8612-0eed54a2acc5",
   "metadata": {},
   "source": [
    "```\n",
    "────────────────────────────────────────────────────────────────────────────────────────────────────────────────────────\n",
    "       Test metric             DataLoader 0\n",
    "────────────────────────────────────────────────────────────────────────────────────────────────────────────────────────\n",
    "    Atelectasis/test        0.8158167004585266\n",
    "    Cardiomegaly/test       0.9089031219482422\n",
    "   Consolidation/test       0.8015962839126587\n",
    "       Edema/test           0.8806883096694946\n",
    "      Effusion/test         0.8776095509529114\n",
    "     Emphysema/test         0.9100750684738159\n",
    "      Fibrosis/test         0.8187764286994934\n",
    "       Hernia/test          0.9201209545135498\n",
    "    Infiltration/test       0.7083836197853088\n",
    "        Mass/test           0.8434146046638489\n",
    "       Nodule/test          0.7771060466766357\n",
    " Pleural_Thickening/test    0.7828282713890076\n",
    "     Pneumonia/test         0.7608471512794495\n",
    "    Pneumothorax/test       0.8627349734306335\n",
    "     loss/test_epoch        0.1522446721792221\n",
    "```"
   ]
  },
  {
   "cell_type": "code",
   "execution_count": 8,
   "id": "1e59cf0d-ff08-4cb2-841a-f0040fff7786",
   "metadata": {},
   "outputs": [],
   "source": [
    "del e_chexnet # Free Space"
   ]
  },
  {
   "cell_type": "markdown",
   "id": "1ccbc640-63e5-4345-9738-a123cdc2b0df",
   "metadata": {},
   "source": [
    "## IDV trained with ImageNet and IRMA"
   ]
  },
  {
   "cell_type": "code",
   "execution_count": 5,
   "id": "cb24b72b-9b22-48b6-a4d3-796a196fc70b",
   "metadata": {
    "tags": []
   },
   "outputs": [
    {
     "name": "stdout",
     "output_type": "stream",
     "text": [
      "217818 3088\n"
     ]
    },
    {
     "name": "stderr",
     "output_type": "stream",
     "text": [
      "/space/wollek/virtualenvs/a-knee-cannot-have-lung-disease/lib/python3.8/site-packages/pytorch_lightning/loops/utilities.py:92: PossibleUserWarning: `max_epochs` was not set. Setting it to 1000 epochs. To train without an epoch limit, set `max_epochs=-1`.\n",
      "  rank_zero_warn(\n",
      "GPU available: True, used: True\n",
      "TPU available: False, using: 0 TPU cores\n",
      "IPU available: False, using: 0 IPUs\n",
      "HPU available: False, using: 0 HPUs\n",
      "LOCAL_RANK: 0 - CUDA_VISIBLE_DEVICES: [0,1,2,3,4,5,6,7]\n"
     ]
    },
    {
     "name": "stdout",
     "output_type": "stream",
     "text": [
      "217818 3088\n"
     ]
    },
    {
     "data": {
      "application/vnd.jupyter.widget-view+json": {
       "model_id": "e25e261b94ec47e69aac40748775aaa7",
       "version_major": 2,
       "version_minor": 0
      },
      "text/plain": [
       "Testing: 0it [00:00, ?it/s]"
      ]
     },
     "metadata": {},
     "output_type": "display_data"
    },
    {
     "name": "stderr",
     "output_type": "stream",
     "text": [
      "/space/wollek/virtualenvs/a-knee-cannot-have-lung-disease/lib/python3.8/site-packages/torchmetrics/utilities/prints.py:36: UserWarning: `pos_label` automatically set 1.\n",
      "  warnings.warn(*args, **kwargs)\n"
     ]
    },
    {
     "name": "stdout",
     "output_type": "stream",
     "text": [
      "Saving predictions in /mnt/cephstorage/users-ssd/wollek/repositories/a-knee-cannot-have-lung-disease/notebooks/lightning_logs/version_15/checkpoints/epoch=0-step=0/test.pt\n",
      "────────────────────────────────────────────────────────────────────────────────────────────────────────────────────────\n",
      "       Test metric             DataLoader 0\n",
      "────────────────────────────────────────────────────────────────────────────────────────────────────────────────────────\n",
      "    Atelectasis/test        0.8164666891098022\n",
      "    Cardiomegaly/test       0.9050900936126709\n",
      "   Consolidation/test       0.8017197847366333\n",
      "       Edema/test           0.8791301846504211\n",
      "      Effusion/test         0.8841458559036255\n",
      "     Emphysema/test         0.9114281535148621\n",
      "      Fibrosis/test         0.8156669735908508\n",
      "       Hernia/test          0.8849973678588867\n",
      "    Infiltration/test       0.7027242183685303\n",
      "        Mass/test           0.8437636494636536\n",
      "       Nodule/test          0.7648423314094543\n",
      " Pleural_Thickening/test    0.7717064619064331\n",
      "     Pneumonia/test         0.7557401061058044\n",
      "    Pneumothorax/test        0.865013062953949\n",
      "     loss/test_epoch        0.15703530609607697\n",
      "────────────────────────────────────────────────────────────────────────────────────────────────────────────────────────\n"
     ]
    },
    {
     "data": {
      "text/plain": [
       "[{'loss/test_epoch': 0.15703530609607697,\n",
       "  'Atelectasis/test': 0.8164666891098022,\n",
       "  'Cardiomegaly/test': 0.9050900936126709,\n",
       "  'Consolidation/test': 0.8017197847366333,\n",
       "  'Edema/test': 0.8791301846504211,\n",
       "  'Effusion/test': 0.8841458559036255,\n",
       "  'Emphysema/test': 0.9114281535148621,\n",
       "  'Fibrosis/test': 0.8156669735908508,\n",
       "  'Hernia/test': 0.8849973678588867,\n",
       "  'Infiltration/test': 0.7027242183685303,\n",
       "  'Mass/test': 0.8437636494636536,\n",
       "  'Nodule/test': 0.7648423314094543,\n",
       "  'Pleural_Thickening/test': 0.7717064619064331,\n",
       "  'Pneumonia/test': 0.7557401061058044,\n",
       "  'Pneumothorax/test': 0.865013062953949}]"
      ]
     },
     "execution_count": 5,
     "metadata": {},
     "output_type": "execute_result"
    }
   ],
   "source": [
    "e_idv_imagenet_and_irma = Experiment(model=\"idv_imagenet_and_irma/idv_imagenet_and_irma.ckpt\", \n",
    "                       hparams=\"idv_imagenet_and_irma/idv_imagenet_and_irma.yaml\")\n",
    "trainer = pl.Trainer(deterministic=True, gpus=\"7,\")\n",
    "trainer.test(e_idv_imagenet_and_irma.model, datamodule=e_idv_imagenet_and_irma.data)"
   ]
  },
  {
   "cell_type": "markdown",
   "id": "d1245e5d-ce55-4bdf-8140-492d92cd8a73",
   "metadata": {
    "tags": []
   },
   "source": [
    "```\n",
    "────────────────────────────────────────────────────────────────────────────────────────────────────────────────────────\n",
    "       Test metric             DataLoader 0\n",
    "────────────────────────────────────────────────────────────────────────────────────────────────────────────────────────\n",
    "    Atelectasis/test        0.8164666891098022\n",
    "    Cardiomegaly/test       0.9050900936126709\n",
    "   Consolidation/test       0.8017197847366333\n",
    "       Edema/test           0.8791301846504211\n",
    "      Effusion/test         0.8841458559036255\n",
    "     Emphysema/test         0.9114281535148621\n",
    "      Fibrosis/test         0.8156669735908508\n",
    "       Hernia/test          0.8849973678588867\n",
    "    Infiltration/test       0.7027242183685303\n",
    "        Mass/test           0.8437636494636536\n",
    "       Nodule/test          0.7648423314094543\n",
    " Pleural_Thickening/test    0.7717064619064331\n",
    "     Pneumonia/test         0.7557401061058044\n",
    "    Pneumothorax/test        0.865013062953949\n",
    "     loss/test_epoch        0.15703530609607697\n",
    "────────────────────────────────────────────────────────────────────────────────────────────────────────────────────────\n",
    "```"
   ]
  },
  {
   "cell_type": "markdown",
   "id": "de983638-5e4a-48d2-a955-f2d78fa19ac0",
   "metadata": {},
   "source": [
    "## All Models"
   ]
  },
  {
   "cell_type": "code",
   "execution_count": 7,
   "id": "36fec608-e6d4-401b-b475-1ff699806fa1",
   "metadata": {},
   "outputs": [
    {
     "name": "stdout",
     "output_type": "stream",
     "text": [
      "Testing idv_irma\n"
     ]
    },
    {
     "name": "stderr",
     "output_type": "stream",
     "text": [
      "GPU available: True, used: True\n",
      "TPU available: False, using: 0 TPU cores\n",
      "IPU available: False, using: 0 IPUs\n",
      "HPU available: False, using: 0 HPUs\n",
      "LOCAL_RANK: 0 - CUDA_VISIBLE_DEVICES: [0,1,2,3,4,5,6,7]\n"
     ]
    },
    {
     "data": {
      "application/vnd.jupyter.widget-view+json": {
       "model_id": "719144355bc54debad645978eb7abcc9",
       "version_major": 2,
       "version_minor": 0
      },
      "text/plain": [
       "Testing: 0it [00:00, ?it/s]"
      ]
     },
     "metadata": {},
     "output_type": "display_data"
    },
    {
     "name": "stderr",
     "output_type": "stream",
     "text": [
      "/space/wollek/virtualenvs/a-knee-cannot-have-lung-disease/lib/python3.8/site-packages/torchmetrics/utilities/prints.py:36: UserWarning: `pos_label` automatically set 1.\n",
      "  warnings.warn(*args, **kwargs)\n"
     ]
    },
    {
     "name": "stdout",
     "output_type": "stream",
     "text": [
      "Saving predictions in /mnt/cephstorage/users-ssd/wollek/repositories/a-knee-cannot-have-lung-disease/notebooks/lightning_logs/version_16/checkpoints/epoch=0-step=0/test.pt\n",
      "────────────────────────────────────────────────────────────────────────────────────────────────────────────────────────\n",
      "       Test metric             DataLoader 0\n",
      "────────────────────────────────────────────────────────────────────────────────────────────────────────────────────────\n",
      "    Atelectasis/test         0.811523973941803\n",
      "    Cardiomegaly/test       0.8983956575393677\n",
      "   Consolidation/test       0.7890408039093018\n",
      "       Edema/test            0.881534993648529\n",
      "      Effusion/test         0.8779269456863403\n",
      "     Emphysema/test          0.91692715883255\n",
      "      Fibrosis/test         0.8030451536178589\n",
      "       Hernia/test          0.9379055500030518\n",
      "    Infiltration/test       0.7092697024345398\n",
      "        Mass/test           0.8427044749259949\n",
      "       Nodule/test           0.769572377204895\n",
      " Pleural_Thickening/test    0.7758249044418335\n",
      "     Pneumonia/test         0.7497365474700928\n",
      "    Pneumothorax/test       0.8712082505226135\n",
      "     loss/test_epoch        0.15255923569202423\n",
      "────────────────────────────────────────────────────────────────────────────────────────────────────────────────────────\n",
      "Testing idv_imagenet_and_irma_fixed\n",
      "1544 1544\n"
     ]
    },
    {
     "name": "stderr",
     "output_type": "stream",
     "text": [
      "GPU available: True, used: True\n",
      "TPU available: False, using: 0 TPU cores\n",
      "IPU available: False, using: 0 IPUs\n",
      "HPU available: False, using: 0 HPUs\n",
      "LOCAL_RANK: 0 - CUDA_VISIBLE_DEVICES: [0,1,2,3,4,5,6,7]\n"
     ]
    },
    {
     "name": "stdout",
     "output_type": "stream",
     "text": [
      "1544 1544\n"
     ]
    },
    {
     "data": {
      "application/vnd.jupyter.widget-view+json": {
       "model_id": "e028021f584847899917734cb98f37bc",
       "version_major": 2,
       "version_minor": 0
      },
      "text/plain": [
       "Testing: 0it [00:00, ?it/s]"
      ]
     },
     "metadata": {},
     "output_type": "display_data"
    },
    {
     "name": "stderr",
     "output_type": "stream",
     "text": [
      "/space/wollek/virtualenvs/a-knee-cannot-have-lung-disease/lib/python3.8/site-packages/torchmetrics/utilities/prints.py:36: UserWarning: `pos_label` automatically set 1.\n",
      "  warnings.warn(*args, **kwargs)\n"
     ]
    },
    {
     "name": "stdout",
     "output_type": "stream",
     "text": [
      "Saving predictions in /mnt/cephstorage/users-ssd/wollek/repositories/a-knee-cannot-have-lung-disease/notebooks/lightning_logs/version_17/checkpoints/epoch=0-step=0/test.pt\n",
      "────────────────────────────────────────────────────────────────────────────────────────────────────────────────────────\n",
      "       Test metric             DataLoader 0\n",
      "────────────────────────────────────────────────────────────────────────────────────────────────────────────────────────\n",
      "    Atelectasis/test        0.8178799152374268\n",
      "    Cardiomegaly/test        0.903565526008606\n",
      "   Consolidation/test        0.799482524394989\n",
      "       Edema/test           0.8837849497795105\n",
      "      Effusion/test         0.8775291442871094\n",
      "     Emphysema/test         0.9095927476882935\n",
      "      Fibrosis/test          0.812618613243103\n",
      "       Hernia/test          0.8708845376968384\n",
      "    Infiltration/test       0.7040072083473206\n",
      "        Mass/test           0.8366358876228333\n",
      "       Nodule/test          0.7660995125770569\n",
      " Pleural_Thickening/test    0.7674829959869385\n",
      "     Pneumonia/test         0.7557162046432495\n",
      "    Pneumothorax/test       0.8691633343696594\n",
      "     loss/test_epoch        0.15231430530548096\n",
      "────────────────────────────────────────────────────────────────────────────────────────────────────────────────────────\n",
      "Testing idv_mura\n",
      "35366 3088\n"
     ]
    },
    {
     "name": "stderr",
     "output_type": "stream",
     "text": [
      "GPU available: True, used: True\n",
      "TPU available: False, using: 0 TPU cores\n",
      "IPU available: False, using: 0 IPUs\n",
      "HPU available: False, using: 0 HPUs\n",
      "LOCAL_RANK: 0 - CUDA_VISIBLE_DEVICES: [0,1,2,3,4,5,6,7]\n"
     ]
    },
    {
     "name": "stdout",
     "output_type": "stream",
     "text": [
      "35366 3088\n"
     ]
    },
    {
     "data": {
      "application/vnd.jupyter.widget-view+json": {
       "model_id": "5faef9f11465455ea3d5df07509c9d0c",
       "version_major": 2,
       "version_minor": 0
      },
      "text/plain": [
       "Testing: 0it [00:00, ?it/s]"
      ]
     },
     "metadata": {},
     "output_type": "display_data"
    },
    {
     "name": "stderr",
     "output_type": "stream",
     "text": [
      "/space/wollek/virtualenvs/a-knee-cannot-have-lung-disease/lib/python3.8/site-packages/torchmetrics/utilities/prints.py:36: UserWarning: `pos_label` automatically set 1.\n",
      "  warnings.warn(*args, **kwargs)\n"
     ]
    },
    {
     "name": "stdout",
     "output_type": "stream",
     "text": [
      "Saving predictions in /mnt/cephstorage/users-ssd/wollek/repositories/a-knee-cannot-have-lung-disease/notebooks/lightning_logs/version_18/checkpoints/epoch=0-step=0/test.pt\n",
      "────────────────────────────────────────────────────────────────────────────────────────────────────────────────────────\n",
      "       Test metric             DataLoader 0\n",
      "────────────────────────────────────────────────────────────────────────────────────────────────────────────────────────\n",
      "    Atelectasis/test        0.8189514875411987\n",
      "    Cardiomegaly/test       0.9046880602836609\n",
      "   Consolidation/test       0.8057817816734314\n",
      "       Edema/test           0.8873082995414734\n",
      "      Effusion/test         0.8829970359802246\n",
      "     Emphysema/test         0.9174008369445801\n",
      "      Fibrosis/test         0.8091920018196106\n",
      "       Hernia/test          0.9199019074440002\n",
      "    Infiltration/test       0.7085115313529968\n",
      "        Mass/test           0.8435449600219727\n",
      "       Nodule/test           0.771093487739563\n",
      " Pleural_Thickening/test    0.7740562558174133\n",
      "     Pneumonia/test         0.7765470743179321\n",
      "    Pneumothorax/test        0.862868070602417\n",
      "     loss/test_epoch        0.1512240320444107\n",
      "────────────────────────────────────────────────────────────────────────────────────────────────────────────────────────\n",
      "Testing idv_mura_fixed\n",
      "3088 3088\n"
     ]
    },
    {
     "name": "stderr",
     "output_type": "stream",
     "text": [
      "GPU available: True, used: True\n",
      "TPU available: False, using: 0 TPU cores\n",
      "IPU available: False, using: 0 IPUs\n",
      "HPU available: False, using: 0 HPUs\n",
      "LOCAL_RANK: 0 - CUDA_VISIBLE_DEVICES: [0,1,2,3,4,5,6,7]\n"
     ]
    },
    {
     "name": "stdout",
     "output_type": "stream",
     "text": [
      "3088 3088\n"
     ]
    },
    {
     "data": {
      "application/vnd.jupyter.widget-view+json": {
       "model_id": "374039cee8314454b3c226df26b65027",
       "version_major": 2,
       "version_minor": 0
      },
      "text/plain": [
       "Testing: 0it [00:00, ?it/s]"
      ]
     },
     "metadata": {},
     "output_type": "display_data"
    },
    {
     "name": "stderr",
     "output_type": "stream",
     "text": [
      "/space/wollek/virtualenvs/a-knee-cannot-have-lung-disease/lib/python3.8/site-packages/torchmetrics/utilities/prints.py:36: UserWarning: `pos_label` automatically set 1.\n",
      "  warnings.warn(*args, **kwargs)\n"
     ]
    },
    {
     "name": "stdout",
     "output_type": "stream",
     "text": [
      "Saving predictions in /mnt/cephstorage/users-ssd/wollek/repositories/a-knee-cannot-have-lung-disease/notebooks/lightning_logs/version_19/checkpoints/epoch=0-step=0/test.pt\n",
      "────────────────────────────────────────────────────────────────────────────────────────────────────────────────────────\n",
      "       Test metric             DataLoader 0\n",
      "────────────────────────────────────────────────────────────────────────────────────────────────────────────────────────\n",
      "    Atelectasis/test        0.8179523348808289\n",
      "    Cardiomegaly/test       0.9117221236228943\n",
      "   Consolidation/test       0.8006758689880371\n",
      "       Edema/test           0.8840764760971069\n",
      "      Effusion/test         0.8748997449874878\n",
      "     Emphysema/test         0.9247699975967407\n",
      "      Fibrosis/test          0.821052074432373\n",
      "       Hernia/test          0.9102169871330261\n",
      "    Infiltration/test       0.7072753310203552\n",
      "        Mass/test            0.854229211807251\n",
      "       Nodule/test          0.7609387636184692\n",
      " Pleural_Thickening/test     0.777526319026947\n",
      "     Pneumonia/test         0.7628474831581116\n",
      "    Pneumothorax/test        0.872224748134613\n",
      "     loss/test_epoch        0.15126937627792358\n",
      "────────────────────────────────────────────────────────────────────────────────────────────────────────────────────────\n",
      "Testing idv_imagenet_fixed\n",
      "3088\n"
     ]
    },
    {
     "name": "stderr",
     "output_type": "stream",
     "text": [
      "GPU available: True, used: True\n",
      "TPU available: False, using: 0 TPU cores\n",
      "IPU available: False, using: 0 IPUs\n",
      "HPU available: False, using: 0 HPUs\n",
      "LOCAL_RANK: 0 - CUDA_VISIBLE_DEVICES: [0,1,2,3,4,5,6,7]\n"
     ]
    },
    {
     "name": "stdout",
     "output_type": "stream",
     "text": [
      "3088\n"
     ]
    },
    {
     "data": {
      "application/vnd.jupyter.widget-view+json": {
       "model_id": "26c3b73ad4c14066a37bb3ee367a8f59",
       "version_major": 2,
       "version_minor": 0
      },
      "text/plain": [
       "Testing: 0it [00:00, ?it/s]"
      ]
     },
     "metadata": {},
     "output_type": "display_data"
    },
    {
     "name": "stderr",
     "output_type": "stream",
     "text": [
      "/space/wollek/virtualenvs/a-knee-cannot-have-lung-disease/lib/python3.8/site-packages/torchmetrics/utilities/prints.py:36: UserWarning: `pos_label` automatically set 1.\n",
      "  warnings.warn(*args, **kwargs)\n"
     ]
    },
    {
     "name": "stdout",
     "output_type": "stream",
     "text": [
      "Saving predictions in /mnt/cephstorage/users-ssd/wollek/repositories/a-knee-cannot-have-lung-disease/notebooks/lightning_logs/version_20/checkpoints/epoch=0-step=0/test.pt\n",
      "────────────────────────────────────────────────────────────────────────────────────────────────────────────────────────\n",
      "       Test metric             DataLoader 0\n",
      "────────────────────────────────────────────────────────────────────────────────────────────────────────────────────────\n",
      "    Atelectasis/test        0.8172886967658997\n",
      "    Cardiomegaly/test       0.9087133407592773\n",
      "   Consolidation/test       0.8067889213562012\n",
      "       Edema/test           0.8943009972572327\n",
      "      Effusion/test         0.8810043334960938\n",
      "     Emphysema/test         0.9116009473800659\n",
      "      Fibrosis/test         0.7960100173950195\n",
      "       Hernia/test          0.8960296511650085\n",
      "    Infiltration/test       0.7114456295967102\n",
      "        Mass/test           0.8471522927284241\n",
      "       Nodule/test           0.773414671421051\n",
      " Pleural_Thickening/test    0.7703371644020081\n",
      "     Pneumonia/test         0.7695050239562988\n",
      "    Pneumothorax/test       0.8688514232635498\n",
      "     loss/test_epoch        0.15104293823242188\n",
      "────────────────────────────────────────────────────────────────────────────────────────────────────────────────────────\n",
      "Testing idv_boneage_fixed\n",
      "3088 3088\n"
     ]
    },
    {
     "name": "stderr",
     "output_type": "stream",
     "text": [
      "GPU available: True, used: True\n",
      "TPU available: False, using: 0 TPU cores\n",
      "IPU available: False, using: 0 IPUs\n",
      "HPU available: False, using: 0 HPUs\n",
      "LOCAL_RANK: 0 - CUDA_VISIBLE_DEVICES: [0,1,2,3,4,5,6,7]\n"
     ]
    },
    {
     "name": "stdout",
     "output_type": "stream",
     "text": [
      "3088 3088\n"
     ]
    },
    {
     "data": {
      "application/vnd.jupyter.widget-view+json": {
       "model_id": "1129c6ff73dc46ecadc0051a6ff6f804",
       "version_major": 2,
       "version_minor": 0
      },
      "text/plain": [
       "Testing: 0it [00:00, ?it/s]"
      ]
     },
     "metadata": {},
     "output_type": "display_data"
    },
    {
     "name": "stderr",
     "output_type": "stream",
     "text": [
      "/space/wollek/virtualenvs/a-knee-cannot-have-lung-disease/lib/python3.8/site-packages/torchmetrics/utilities/prints.py:36: UserWarning: `pos_label` automatically set 1.\n",
      "  warnings.warn(*args, **kwargs)\n"
     ]
    },
    {
     "name": "stdout",
     "output_type": "stream",
     "text": [
      "Saving predictions in /mnt/cephstorage/users-ssd/wollek/repositories/a-knee-cannot-have-lung-disease/notebooks/lightning_logs/version_21/checkpoints/epoch=0-step=0/test.pt\n",
      "────────────────────────────────────────────────────────────────────────────────────────────────────────────────────────\n",
      "       Test metric             DataLoader 0\n",
      "────────────────────────────────────────────────────────────────────────────────────────────────────────────────────────\n",
      "    Atelectasis/test        0.8148239850997925\n",
      "    Cardiomegaly/test       0.9006175398826599\n",
      "   Consolidation/test       0.7968040108680725\n",
      "       Edema/test           0.8770696520805359\n",
      "      Effusion/test         0.8773729801177979\n",
      "     Emphysema/test         0.9064041376113892\n",
      "      Fibrosis/test         0.8215653896331787\n",
      "       Hernia/test          0.9184419512748718\n",
      "    Infiltration/test       0.7014797925949097\n",
      "        Mass/test           0.8378429412841797\n",
      "       Nodule/test          0.7761868238449097\n",
      " Pleural_Thickening/test    0.7826159596443176\n",
      "     Pneumonia/test         0.7571927309036255\n",
      "    Pneumothorax/test       0.8689988255500793\n",
      "     loss/test_epoch        0.15142375230789185\n",
      "────────────────────────────────────────────────────────────────────────────────────────────────────────────────────────\n",
      "Testing idv_irma_fixed\n"
     ]
    },
    {
     "name": "stderr",
     "output_type": "stream",
     "text": [
      "GPU available: True, used: True\n",
      "TPU available: False, using: 0 TPU cores\n",
      "IPU available: False, using: 0 IPUs\n",
      "HPU available: False, using: 0 HPUs\n",
      "LOCAL_RANK: 0 - CUDA_VISIBLE_DEVICES: [0,1,2,3,4,5,6,7]\n"
     ]
    },
    {
     "data": {
      "application/vnd.jupyter.widget-view+json": {
       "model_id": "7bdd16fb5d3d416d8b14171c45b1cdf5",
       "version_major": 2,
       "version_minor": 0
      },
      "text/plain": [
       "Testing: 0it [00:00, ?it/s]"
      ]
     },
     "metadata": {},
     "output_type": "display_data"
    },
    {
     "name": "stderr",
     "output_type": "stream",
     "text": [
      "/space/wollek/virtualenvs/a-knee-cannot-have-lung-disease/lib/python3.8/site-packages/torchmetrics/utilities/prints.py:36: UserWarning: `pos_label` automatically set 1.\n",
      "  warnings.warn(*args, **kwargs)\n"
     ]
    },
    {
     "name": "stdout",
     "output_type": "stream",
     "text": [
      "Saving predictions in /mnt/cephstorage/users-ssd/wollek/repositories/a-knee-cannot-have-lung-disease/notebooks/lightning_logs/version_22/checkpoints/epoch=0-step=0/test.pt\n",
      "────────────────────────────────────────────────────────────────────────────────────────────────────────────────────────\n",
      "       Test metric             DataLoader 0\n",
      "────────────────────────────────────────────────────────────────────────────────────────────────────────────────────────\n",
      "    Atelectasis/test         0.811523973941803\n",
      "    Cardiomegaly/test       0.8983956575393677\n",
      "   Consolidation/test       0.7890408039093018\n",
      "       Edema/test            0.881534993648529\n",
      "      Effusion/test         0.8779269456863403\n",
      "     Emphysema/test          0.91692715883255\n",
      "      Fibrosis/test         0.8030451536178589\n",
      "       Hernia/test          0.9379055500030518\n",
      "    Infiltration/test       0.7092697024345398\n",
      "        Mass/test           0.8427044749259949\n",
      "       Nodule/test           0.769572377204895\n",
      " Pleural_Thickening/test    0.7758249044418335\n",
      "     Pneumonia/test         0.7497365474700928\n",
      "    Pneumothorax/test       0.8712082505226135\n",
      "     loss/test_epoch        0.15255923569202423\n",
      "────────────────────────────────────────────────────────────────────────────────────────────────────────────────────────\n",
      "Testing idv_imagenet\n",
      "217818\n"
     ]
    },
    {
     "name": "stderr",
     "output_type": "stream",
     "text": [
      "GPU available: True, used: True\n",
      "TPU available: False, using: 0 TPU cores\n",
      "IPU available: False, using: 0 IPUs\n",
      "HPU available: False, using: 0 HPUs\n",
      "LOCAL_RANK: 0 - CUDA_VISIBLE_DEVICES: [0,1,2,3,4,5,6,7]\n"
     ]
    },
    {
     "name": "stdout",
     "output_type": "stream",
     "text": [
      "217818\n"
     ]
    },
    {
     "data": {
      "application/vnd.jupyter.widget-view+json": {
       "model_id": "c2351e997d004fadbade6477a3798442",
       "version_major": 2,
       "version_minor": 0
      },
      "text/plain": [
       "Testing: 0it [00:00, ?it/s]"
      ]
     },
     "metadata": {},
     "output_type": "display_data"
    },
    {
     "name": "stderr",
     "output_type": "stream",
     "text": [
      "/space/wollek/virtualenvs/a-knee-cannot-have-lung-disease/lib/python3.8/site-packages/torchmetrics/utilities/prints.py:36: UserWarning: `pos_label` automatically set 1.\n",
      "  warnings.warn(*args, **kwargs)\n"
     ]
    },
    {
     "name": "stdout",
     "output_type": "stream",
     "text": [
      "Saving predictions in /mnt/cephstorage/users-ssd/wollek/repositories/a-knee-cannot-have-lung-disease/notebooks/lightning_logs/version_23/checkpoints/epoch=0-step=0/test.pt\n",
      "────────────────────────────────────────────────────────────────────────────────────────────────────────────────────────\n",
      "       Test metric             DataLoader 0\n",
      "────────────────────────────────────────────────────────────────────────────────────────────────────────────────────────\n",
      "    Atelectasis/test        0.7951273918151855\n",
      "    Cardiomegaly/test       0.8907918930053711\n",
      "   Consolidation/test       0.7900475859642029\n",
      "       Edema/test           0.8647511005401611\n",
      "      Effusion/test         0.8670343160629272\n",
      "     Emphysema/test         0.8731932640075684\n",
      "      Fibrosis/test         0.7785593271255493\n",
      "       Hernia/test          0.8474907279014587\n",
      "    Infiltration/test       0.6863119602203369\n",
      "        Mass/test           0.8160455822944641\n",
      "       Nodule/test          0.7187269926071167\n",
      " Pleural_Thickening/test    0.7425830960273743\n",
      "     Pneumonia/test         0.7242701649665833\n",
      "    Pneumothorax/test       0.8404156565666199\n",
      "     loss/test_epoch        0.15711353719234467\n",
      "────────────────────────────────────────────────────────────────────────────────────────────────────────────────────────\n",
      "Testing idv_boneage\n",
      "8179 3088\n"
     ]
    },
    {
     "name": "stderr",
     "output_type": "stream",
     "text": [
      "GPU available: True, used: True\n",
      "TPU available: False, using: 0 TPU cores\n",
      "IPU available: False, using: 0 IPUs\n",
      "HPU available: False, using: 0 HPUs\n",
      "LOCAL_RANK: 0 - CUDA_VISIBLE_DEVICES: [0,1,2,3,4,5,6,7]\n"
     ]
    },
    {
     "name": "stdout",
     "output_type": "stream",
     "text": [
      "8179 3088\n"
     ]
    },
    {
     "data": {
      "application/vnd.jupyter.widget-view+json": {
       "model_id": "a2ff9088e0da4b2eaba647c4f47cb30b",
       "version_major": 2,
       "version_minor": 0
      },
      "text/plain": [
       "Testing: 0it [00:00, ?it/s]"
      ]
     },
     "metadata": {},
     "output_type": "display_data"
    },
    {
     "name": "stderr",
     "output_type": "stream",
     "text": [
      "/space/wollek/virtualenvs/a-knee-cannot-have-lung-disease/lib/python3.8/site-packages/torchmetrics/utilities/prints.py:36: UserWarning: `pos_label` automatically set 1.\n",
      "  warnings.warn(*args, **kwargs)\n"
     ]
    },
    {
     "name": "stdout",
     "output_type": "stream",
     "text": [
      "Saving predictions in /mnt/cephstorage/users-ssd/wollek/repositories/a-knee-cannot-have-lung-disease/notebooks/lightning_logs/version_24/checkpoints/epoch=0-step=0/test.pt\n",
      "────────────────────────────────────────────────────────────────────────────────────────────────────────────────────────\n",
      "       Test metric             DataLoader 0\n",
      "────────────────────────────────────────────────────────────────────────────────────────────────────────────────────────\n",
      "    Atelectasis/test        0.8190319538116455\n",
      "    Cardiomegaly/test       0.9064423441886902\n",
      "   Consolidation/test       0.8073554039001465\n",
      "       Edema/test            0.892580509185791\n",
      "      Effusion/test         0.8786394000053406\n",
      "     Emphysema/test         0.9268151521682739\n",
      "      Fibrosis/test         0.8290529847145081\n",
      "       Hernia/test          0.9242573380470276\n",
      "    Infiltration/test       0.7082608938217163\n",
      "        Mass/test           0.8421990871429443\n",
      "       Nodule/test           0.77579665184021\n",
      " Pleural_Thickening/test    0.7799264192581177\n",
      "     Pneumonia/test         0.7698915600776672\n",
      "    Pneumothorax/test       0.8550846576690674\n",
      "     loss/test_epoch        0.15093329548835754\n",
      "────────────────────────────────────────────────────────────────────────────────────────────────────────────────────────\n",
      "Testing idv_imagenet_and_irma\n",
      "217818 3088\n"
     ]
    },
    {
     "name": "stderr",
     "output_type": "stream",
     "text": [
      "GPU available: True, used: True\n",
      "TPU available: False, using: 0 TPU cores\n",
      "IPU available: False, using: 0 IPUs\n",
      "HPU available: False, using: 0 HPUs\n",
      "LOCAL_RANK: 0 - CUDA_VISIBLE_DEVICES: [0,1,2,3,4,5,6,7]\n"
     ]
    },
    {
     "name": "stdout",
     "output_type": "stream",
     "text": [
      "217818 3088\n"
     ]
    },
    {
     "data": {
      "application/vnd.jupyter.widget-view+json": {
       "model_id": "44d7808404324b61af25b91471c15985",
       "version_major": 2,
       "version_minor": 0
      },
      "text/plain": [
       "Testing: 0it [00:00, ?it/s]"
      ]
     },
     "metadata": {},
     "output_type": "display_data"
    },
    {
     "name": "stderr",
     "output_type": "stream",
     "text": [
      "/space/wollek/virtualenvs/a-knee-cannot-have-lung-disease/lib/python3.8/site-packages/torchmetrics/utilities/prints.py:36: UserWarning: `pos_label` automatically set 1.\n",
      "  warnings.warn(*args, **kwargs)\n"
     ]
    },
    {
     "name": "stdout",
     "output_type": "stream",
     "text": [
      "Saving predictions in /mnt/cephstorage/users-ssd/wollek/repositories/a-knee-cannot-have-lung-disease/notebooks/lightning_logs/version_25/checkpoints/epoch=0-step=0/test.pt\n",
      "────────────────────────────────────────────────────────────────────────────────────────────────────────────────────────\n",
      "       Test metric             DataLoader 0\n",
      "────────────────────────────────────────────────────────────────────────────────────────────────────────────────────────\n",
      "    Atelectasis/test        0.8164666891098022\n",
      "    Cardiomegaly/test       0.9050900936126709\n",
      "   Consolidation/test       0.8017197847366333\n",
      "       Edema/test           0.8791301846504211\n",
      "      Effusion/test         0.8841458559036255\n",
      "     Emphysema/test         0.9114281535148621\n",
      "      Fibrosis/test         0.8156669735908508\n",
      "       Hernia/test          0.8849973678588867\n",
      "    Infiltration/test       0.7027242183685303\n",
      "        Mass/test           0.8437636494636536\n",
      "       Nodule/test          0.7648423314094543\n",
      " Pleural_Thickening/test    0.7717064619064331\n",
      "     Pneumonia/test         0.7557401061058044\n",
      "    Pneumothorax/test        0.865013062953949\n",
      "     loss/test_epoch        0.15703530609607697\n",
      "────────────────────────────────────────────────────────────────────────────────────────────────────────────────────────\n",
      "Testing chexnet\n"
     ]
    },
    {
     "name": "stderr",
     "output_type": "stream",
     "text": [
      "GPU available: True, used: True\n",
      "TPU available: False, using: 0 TPU cores\n",
      "IPU available: False, using: 0 IPUs\n",
      "HPU available: False, using: 0 HPUs\n",
      "LOCAL_RANK: 0 - CUDA_VISIBLE_DEVICES: [0,1,2,3,4,5,6,7]\n"
     ]
    },
    {
     "data": {
      "application/vnd.jupyter.widget-view+json": {
       "model_id": "73a8426f6f9d48029ec77c41f7e47cf4",
       "version_major": 2,
       "version_minor": 0
      },
      "text/plain": [
       "Testing: 0it [00:00, ?it/s]"
      ]
     },
     "metadata": {},
     "output_type": "display_data"
    },
    {
     "name": "stderr",
     "output_type": "stream",
     "text": [
      "/space/wollek/virtualenvs/a-knee-cannot-have-lung-disease/lib/python3.8/site-packages/torchmetrics/utilities/prints.py:36: UserWarning: `pos_label` automatically set 1.\n",
      "  warnings.warn(*args, **kwargs)\n"
     ]
    },
    {
     "name": "stdout",
     "output_type": "stream",
     "text": [
      "Saving predictions in /mnt/cephstorage/users-ssd/wollek/repositories/a-knee-cannot-have-lung-disease/notebooks/lightning_logs/version_26/checkpoints/epoch=0-step=0/test.pt\n",
      "────────────────────────────────────────────────────────────────────────────────────────────────────────────────────────\n",
      "       Test metric             DataLoader 0\n",
      "────────────────────────────────────────────────────────────────────────────────────────────────────────────────────────\n",
      "    Atelectasis/test        0.8158167004585266\n",
      "    Cardiomegaly/test       0.9089031219482422\n",
      "   Consolidation/test       0.8015962839126587\n",
      "       Edema/test           0.8806883096694946\n",
      "      Effusion/test         0.8776095509529114\n",
      "     Emphysema/test         0.9100750684738159\n",
      "      Fibrosis/test         0.8187764286994934\n",
      "       Hernia/test          0.9201209545135498\n",
      "    Infiltration/test       0.7083836197853088\n",
      "        Mass/test           0.8434146046638489\n",
      "       Nodule/test          0.7771060466766357\n",
      " Pleural_Thickening/test    0.7828282713890076\n",
      "     Pneumonia/test         0.7608471512794495\n",
      "    Pneumothorax/test       0.8627349734306335\n",
      "     loss/test_epoch        0.1522446721792221\n",
      "────────────────────────────────────────────────────────────────────────────────────────────────────────────────────────\n"
     ]
    }
   ],
   "source": [
    "from pathlib import Path\n",
    "\n",
    "for path in Path(\"../models\").rglob(\"*.ckpt\"):\n",
    "    print(f\"Testing {path.stem}\") \n",
    "    experiment = Experiment(model=path,\n",
    "                       hparams=f\"{path.stem}/{path.stem}.yaml\")\n",
    "    trainer = pl.Trainer(deterministic=True, gpus=\"7,\", max_epochs=1)\n",
    "    trainer.test(experiment.model, datamodule=experiment.data)"
   ]
  },
  {
   "cell_type": "code",
   "execution_count": null,
   "id": "d92fb643-b993-4922-b630-a02c8373cc61",
   "metadata": {},
   "outputs": [],
   "source": []
  }
 ],
 "metadata": {
  "kernelspec": {
   "display_name": "Python 3 (ipykernel)",
   "language": "python",
   "name": "python3"
  },
  "language_info": {
   "codemirror_mode": {
    "name": "ipython",
    "version": 3
   },
   "file_extension": ".py",
   "mimetype": "text/x-python",
   "name": "python",
   "nbconvert_exporter": "python",
   "pygments_lexer": "ipython3",
   "version": "3.8.8"
  }
 },
 "nbformat": 4,
 "nbformat_minor": 5
}
