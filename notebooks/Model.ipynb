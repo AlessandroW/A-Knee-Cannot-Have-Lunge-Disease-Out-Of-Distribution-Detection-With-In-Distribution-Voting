{
 "cells": [
  {
   "cell_type": "markdown",
   "id": "549afde8-63b0-4ab9-9301-4adc9250c737",
   "metadata": {},
   "source": [
    "# Model\n",
    "\n",
    "This notebook shows how the model is used.\n",
    "\n",
    "*Note, we need a specific torch and torchvision version.  \n",
    "`pip install torch==\"1.8.1+cu111\" torchvision==\"0.9.1+cu111\" --extra-index-url https://download.pytorch.org/whl/cu111`*"
   ]
  },
  {
   "cell_type": "code",
   "execution_count": 1,
   "id": "7be14454-9f8a-432e-930c-90fb84132b04",
   "metadata": {},
   "outputs": [],
   "source": [
    "%load_ext autoreload\n",
    "%autoreload 2"
   ]
  },
  {
   "cell_type": "code",
   "execution_count": 2,
   "id": "0ba5c926-6b73-4b6a-8813-6bf3ee2b6ca2",
   "metadata": {},
   "outputs": [],
   "source": [
    "from idv import datamodule, model"
   ]
  },
  {
   "cell_type": "code",
   "execution_count": 8,
   "id": "d3e62848-07ff-4fc8-8fe3-c276dfad269f",
   "metadata": {},
   "outputs": [],
   "source": [
    "chexnet = model.Model(learning_rate=0.0003,\n",
    "                      weight_decay=0.0001,\n",
    "                      optim=\"Adam\",\n",
    "                      scheduler=\"plateau\",\n",
    "                      patience=1,\n",
    "                      pretrained=True,\n",
    "                      dropout=0)"
   ]
  },
  {
   "cell_type": "code",
   "execution_count": 5,
   "id": "11fb04e0-37e1-476c-80cb-8c080fe477c3",
   "metadata": {},
   "outputs": [
    {
     "name": "stderr",
     "output_type": "stream",
     "text": [
      "/space/wollek/virtualenvs/a-knee-cannot-have-lung-disease/lib/python3.8/site-packages/pytorch_lightning/core/datamodule.py:95: LightningDeprecationWarning: DataModule property `train_transforms` was deprecated in v1.5 and will be removed in v1.7.\n",
      "  rank_zero_deprecation(\n",
      "/space/wollek/virtualenvs/a-knee-cannot-have-lung-disease/lib/python3.8/site-packages/pytorch_lightning/core/datamodule.py:88: LightningDeprecationWarning: DataModule property `train_transforms` was deprecated in v1.5 and will be removed in v1.7.\n",
      "  rank_zero_deprecation(\n"
     ]
    }
   ],
   "source": [
    "dm = datamodule.DataModule(batch_size=2, size=224, sample=2)\n",
    "dm.setup()\n",
    "trainloader = dm.train_dataloader()"
   ]
  },
  {
   "cell_type": "code",
   "execution_count": 11,
   "id": "9ef845e5-5ded-478b-903e-6f3b7942b4d2",
   "metadata": {},
   "outputs": [],
   "source": [
    "x, y, idx = next(iter(trainloader))\n",
    "y_hat = chexnet(x)"
   ]
  },
  {
   "cell_type": "markdown",
   "id": "77a41a4f-fb5b-4722-a979-faf8d824ebc6",
   "metadata": {},
   "source": [
    "## Trained with OOD Data"
   ]
  },
  {
   "cell_type": "code",
   "execution_count": 15,
   "id": "72f0cc89-05eb-4f3a-b000-067cfcec8ded",
   "metadata": {},
   "outputs": [
    {
     "name": "stdout",
     "output_type": "stream",
     "text": [
      "217818 3088\n"
     ]
    },
    {
     "name": "stderr",
     "output_type": "stream",
     "text": [
      "/space/wollek/virtualenvs/a-knee-cannot-have-lung-disease/lib/python3.8/site-packages/pytorch_lightning/core/datamodule.py:95: LightningDeprecationWarning: DataModule property `train_transforms` was deprecated in v1.5 and will be removed in v1.7.\n",
      "  rank_zero_deprecation(\n",
      "/space/wollek/virtualenvs/a-knee-cannot-have-lung-disease/lib/python3.8/site-packages/pytorch_lightning/core/datamodule.py:88: LightningDeprecationWarning: DataModule property `train_transforms` was deprecated in v1.5 and will be removed in v1.7.\n",
      "  rank_zero_deprecation(\n"
     ]
    }
   ],
   "source": [
    "dm = datamodule.DataModule(batch_size=2, \n",
    "                           size=224,\n",
    "                           outlier_exposure=True, \n",
    "                           exposure_dataset=\"imagenet_irma\")\n",
    "dm.setup()\n",
    "train_loader = dm.train_dataloader()\n",
    "x, y, idx = next(iter(trainloader))\n",
    "y_hat = chexnet(x)"
   ]
  }
 ],
 "metadata": {
  "kernelspec": {
   "display_name": "Python 3 (ipykernel)",
   "language": "python",
   "name": "python3"
  },
  "language_info": {
   "codemirror_mode": {
    "name": "ipython",
    "version": 3
   },
   "file_extension": ".py",
   "mimetype": "text/x-python",
   "name": "python",
   "nbconvert_exporter": "python",
   "pygments_lexer": "ipython3",
   "version": "3.8.8"
  }
 },
 "nbformat": 4,
 "nbformat_minor": 5
}
