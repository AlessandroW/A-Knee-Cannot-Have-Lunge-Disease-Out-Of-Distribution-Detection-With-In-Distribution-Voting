{
 "cells": [
  {
   "cell_type": "markdown",
   "id": "cdd83475-ebf1-45b7-a892-e42e96f173cb",
   "metadata": {},
   "source": [
    "# Out of Distribution Detection"
   ]
  },
  {
   "cell_type": "code",
   "execution_count": 1,
   "id": "57cd71ee-1476-46f4-8bf2-3799844be90f",
   "metadata": {},
   "outputs": [],
   "source": [
    "%load_ext autoreload\n",
    "%autoreload 2"
   ]
  },
  {
   "cell_type": "code",
   "execution_count": 2,
   "id": "ac93539a-ed4b-48b6-a820-0de8e8fad8e0",
   "metadata": {},
   "outputs": [],
   "source": [
    "from idv import datamodule, ood_detection"
   ]
  },
  {
   "cell_type": "code",
   "execution_count": 3,
   "id": "37883252-d4c2-40e2-a900-0134008eaabb",
   "metadata": {},
   "outputs": [],
   "source": [
    "labels = datamodule.CHESTXRAY14.labels"
   ]
  },
  {
   "cell_type": "markdown",
   "id": "3aa98930-7665-46ee-907d-c6af97c47676",
   "metadata": {},
   "source": [
    "## CheXnet (no OOD detection)"
   ]
  },
  {
   "cell_type": "code",
   "execution_count": 4,
   "id": "f4517d01-f8f0-448e-bd7c-9d316e059313",
   "metadata": {
    "jupyter": {
     "source_hidden": true
    },
    "tags": []
   },
   "outputs": [
    {
     "name": "stdout",
     "output_type": "stream",
     "text": [
      "\n",
      "With No Finding\n",
      "ID classification sensitivity 0.978\n",
      "ID classification specificity 0.0\n",
      "\n",
      "Without No Finding\n",
      "ID classification sensitivity 0.997\n",
      "ID classification specificity 0.0\n",
      "\n",
      "End-to-End AUC\n",
      "{'Atelectasis': '0.795',\n",
      " 'Cardiomegaly': '0.897',\n",
      " 'Consolidation': '0.696',\n",
      " 'Edema': '0.841',\n",
      " 'Effusion': '0.828',\n",
      " 'Emphysema': '0.896',\n",
      " 'Fibrosis': '0.844',\n",
      " 'Hernia': '0.864',\n",
      " 'Infiltration': '0.642',\n",
      " 'Mass': '0.838',\n",
      " 'Mean': 0.807,\n",
      " 'No Finding': '0.805',\n",
      " 'Nodule': '0.776',\n",
      " 'Pleural_Thickening': '0.73',\n",
      " 'Pneumonia': '0.845'}\n"
     ]
    }
   ],
   "source": [
    "ood_detection.no_ood(\"../models/chexnet/cxr14_val.pt\",\n",
    "                     \"../models/chexnet/cxr14_test.pt\",\n",
    "                     \"../models/chexnet/boneage_test.pth\",\n",
    "                     labels)"
   ]
  },
  {
   "cell_type": "markdown",
   "id": "c2e658cb-84a5-41b8-aa8a-60df687001e0",
   "metadata": {},
   "source": [
    "## In-Distribution Voting (ours)"
   ]
  },
  {
   "cell_type": "code",
   "execution_count": 5,
   "id": "20bd7c2d-aaf1-457a-a568-ac9697c54bd1",
   "metadata": {
    "jupyter": {
     "source_hidden": true
    },
    "tags": []
   },
   "outputs": [
    {
     "name": "stdout",
     "output_type": "stream",
     "text": [
      "\n",
      "With No Finding\n",
      "ID classification sensitivity 0.982\n",
      "ID classification specificity 0.999\n",
      "\n",
      "Without No Finding\n",
      "ID classification sensitivity 0.998\n",
      "ID classification specificity 0.999\n",
      "\n",
      "End-to-End AUC\n",
      "{'Atelectasis': '0.846',\n",
      " 'Cardiomegaly': '0.919',\n",
      " 'Consolidation': '0.832',\n",
      " 'Edema': '0.896',\n",
      " 'Effusion': '0.903',\n",
      " 'Emphysema': '0.924',\n",
      " 'Fibrosis': '0.842',\n",
      " 'Hernia': '0.902',\n",
      " 'Infiltration': '0.754',\n",
      " 'Mass': '0.868',\n",
      " 'Mean': 0.855,\n",
      " 'No Finding': '0.801',\n",
      " 'Nodule': '0.806',\n",
      " 'Pleural_Thickening': '0.792',\n",
      " 'Pneumonia': '0.886'}\n"
     ]
    }
   ],
   "source": [
    "ood_detection.idv(\"../models/idv_imagenet_and_irma/cxr14_val.pt\",\n",
    "                  \"../models/idv_imagenet_and_irma/cxr14_test.pt\",\n",
    "                  \"../models/idv_imagenet_and_irma/boneage_val.pth\",\n",
    "                  \"../models/idv_imagenet_and_irma/boneage_test.pth\",\n",
    "                  labels)"
   ]
  },
  {
   "cell_type": "markdown",
   "id": "d3eca39d-1f66-4511-b1c5-65fb19fabb64",
   "metadata": {},
   "source": [
    "## Mahalanobis"
   ]
  },
  {
   "cell_type": "code",
   "execution_count": 6,
   "id": "88d3ad60-8864-46df-af39-e8ba274448ad",
   "metadata": {
    "tags": []
   },
   "outputs": [
    {
     "name": "stdout",
     "output_type": "stream",
     "text": [
      "Lowest TPR >= 95 % was 0.99\n",
      "\n",
      "With No Finding\n",
      "ID classification sensitivity 0.986\n",
      "ID classification specificity 0.998\n",
      "\n",
      "Without No Finding\n",
      "ID classification sensitivity 0.989\n",
      "ID classification specificity 0.899\n",
      "\n",
      "End-to-End AUC\n",
      "{'Atelectasis': '0.845',\n",
      " 'Cardiomegaly': '0.919',\n",
      " 'Consolidation': '0.83',\n",
      " 'Edema': '0.896',\n",
      " 'Effusion': '0.895',\n",
      " 'Emphysema': '0.892',\n",
      " 'Fibrosis': '0.843',\n",
      " 'Hernia': '0.933',\n",
      " 'Infiltration': '0.754',\n",
      " 'Mass': '0.85',\n",
      " 'Mean': 0.853,\n",
      " 'No Finding': '0.797',\n",
      " 'Nodule': '0.814',\n",
      " 'Pleural_Thickening': '0.793',\n",
      " 'Pneumonia': '0.878'}\n"
     ]
    }
   ],
   "source": [
    "ood_detection.mahalanobis(\"../models/chexnet/cxr14_val.pt\",\n",
    "                          \"../models/chexnet/cxr14_test.pt\",\n",
    "                          \"../models/chexnet/boneage_val.pth\",\n",
    "                          \"../models/chexnet/boneage_test.pth\",\n",
    "                          labels)"
   ]
  },
  {
   "cell_type": "markdown",
   "id": "cd7b1e1a-2166-42c3-8096-3a58df3825a1",
   "metadata": {},
   "source": [
    "## Max Prediction"
   ]
  },
  {
   "cell_type": "code",
   "execution_count": 7,
   "id": "dbe19403-768c-4d4f-a00d-cab649ee0b35",
   "metadata": {
    "jupyter": {
     "source_hidden": true
    },
    "tags": []
   },
   "outputs": [
    {
     "name": "stdout",
     "output_type": "stream",
     "text": [
      "\n",
      "With No Finding\n",
      "ID classification sensitivity 0.956\n",
      "ID classification specificity 0.0\n",
      "\n",
      "Without No Finding\n",
      "ID classification sensitivity 0.993\n",
      "ID classification specificity 0.0\n",
      "\n",
      "End-to-End AUC\n",
      "{'Atelectasis': '0.795',\n",
      " 'Cardiomegaly': '0.893',\n",
      " 'Consolidation': '0.696',\n",
      " 'Edema': '0.841',\n",
      " 'Effusion': '0.828',\n",
      " 'Emphysema': '0.895',\n",
      " 'Fibrosis': '0.841',\n",
      " 'Hernia': '0.865',\n",
      " 'Infiltration': '0.642',\n",
      " 'Mass': '0.837',\n",
      " 'Mean': 0.806,\n",
      " 'No Finding': '0.806',\n",
      " 'Nodule': '0.776',\n",
      " 'Pleural_Thickening': '0.731',\n",
      " 'Pneumonia': '0.846'}\n"
     ]
    }
   ],
   "source": [
    "ood_detection.max_prediction(\"../models/chexnet/cxr14_val.pt\",\n",
    "                             \"../models/chexnet/cxr14_test.pt\",\n",
    "                             \"../models/chexnet/boneage_val.pth\",\n",
    "                             \"../models/chexnet/boneage_test.pth\",\n",
    "                             labels)"
   ]
  },
  {
   "cell_type": "markdown",
   "id": "301e0a1c-5aa0-4928-a00a-1262384e8070",
   "metadata": {},
   "source": [
    "## Max Softmax"
   ]
  },
  {
   "cell_type": "code",
   "execution_count": 8,
   "id": "6c27b01e-3bee-4d69-ab9e-05d4d02b8df8",
   "metadata": {
    "jupyter": {
     "source_hidden": true
    },
    "tags": []
   },
   "outputs": [
    {
     "name": "stdout",
     "output_type": "stream",
     "text": [
      "Lowest TPR >= 95 % was 0.99\n",
      "\n",
      "With No Finding\n",
      "ID classification sensitivity 0.995\n",
      "ID classification specificity 0.0\n",
      "\n",
      "Without No Finding\n",
      "ID classification sensitivity 0.999\n",
      "ID classification specificity 0.0\n",
      "\n",
      "End-to-End AUC\n",
      "{'Atelectasis': '0.795',\n",
      " 'Cardiomegaly': '0.897',\n",
      " 'Consolidation': '0.696',\n",
      " 'Edema': '0.841',\n",
      " 'Effusion': '0.828',\n",
      " 'Emphysema': '0.896',\n",
      " 'Fibrosis': '0.844',\n",
      " 'Hernia': '0.864',\n",
      " 'Infiltration': '0.643',\n",
      " 'Mass': '0.837',\n",
      " 'Mean': 0.807,\n",
      " 'No Finding': '0.805',\n",
      " 'Nodule': '0.776',\n",
      " 'Pleural_Thickening': '0.73',\n",
      " 'Pneumonia': '0.845'}\n"
     ]
    }
   ],
   "source": [
    "ood_detection.max_softmax(\"../models/chexnet/cxr14_val.pt\",\n",
    "                          \"../models/chexnet/cxr14_test.pt\",\n",
    "                          \"../models/chexnet/boneage_val.pth\",\n",
    "                          \"../models/chexnet/boneage_test.pth\",\n",
    "                          labels)"
   ]
  },
  {
   "cell_type": "markdown",
   "id": "5a0bf020-f89f-43b4-9948-c23180b21ecb",
   "metadata": {},
   "source": [
    "## Max Logit"
   ]
  },
  {
   "cell_type": "code",
   "execution_count": 9,
   "id": "bbe50832-bf50-4a69-ba90-fa0159956f77",
   "metadata": {
    "jupyter": {
     "source_hidden": true
    },
    "tags": []
   },
   "outputs": [
    {
     "name": "stdout",
     "output_type": "stream",
     "text": [
      "\n",
      "With No Finding\n",
      "ID classification sensitivity 0.956\n",
      "ID classification specificity 0.0\n",
      "\n",
      "Without No Finding\n",
      "ID classification sensitivity 0.956\n",
      "ID classification specificity 0.0\n",
      "\n",
      "End-to-End AUC\n",
      "{'Atelectasis': '0.795',\n",
      " 'Cardiomegaly': '0.893',\n",
      " 'Consolidation': '0.696',\n",
      " 'Edema': '0.841',\n",
      " 'Effusion': '0.828',\n",
      " 'Emphysema': '0.895',\n",
      " 'Fibrosis': '0.841',\n",
      " 'Hernia': '0.865',\n",
      " 'Infiltration': '0.642',\n",
      " 'Mass': '0.837',\n",
      " 'Mean': 0.806,\n",
      " 'No Finding': '0.806',\n",
      " 'Nodule': '0.776',\n",
      " 'Pleural_Thickening': '0.731',\n",
      " 'Pneumonia': '0.846'}\n"
     ]
    }
   ],
   "source": [
    "ood_detection.max_logit(\"../models/chexnet/cxr14_val.pt\",\n",
    "                        \"../models/chexnet/cxr14_test.pt\",\n",
    "                        \"../models/chexnet/boneage_val.pth\",\n",
    "                        \"../models/chexnet/boneage_test.pth\",\n",
    "                        labels)"
   ]
  },
  {
   "cell_type": "markdown",
   "id": "3f63e96c-a210-4cb7-8ee0-586d7f1a82f5",
   "metadata": {},
   "source": [
    "## Max Energy"
   ]
  },
  {
   "cell_type": "code",
   "execution_count": 10,
   "id": "188fbda3-e944-40e0-8e31-f0d449f3d0ed",
   "metadata": {
    "jupyter": {
     "source_hidden": true
    },
    "tags": []
   },
   "outputs": [
    {
     "name": "stdout",
     "output_type": "stream",
     "text": [
      "\n",
      "With No Finding\n",
      "ID classification sensitivity 0.956\n",
      "ID classification specificity 0.0\n",
      "\n",
      "Without No Finding\n",
      "ID classification sensitivity 0.956\n",
      "ID classification specificity 0.0\n",
      "\n",
      "End-to-End AUC\n",
      "{'Atelectasis': '0.795',\n",
      " 'Cardiomegaly': '0.893',\n",
      " 'Consolidation': '0.696',\n",
      " 'Edema': '0.841',\n",
      " 'Effusion': '0.828',\n",
      " 'Emphysema': '0.895',\n",
      " 'Fibrosis': '0.841',\n",
      " 'Hernia': '0.865',\n",
      " 'Infiltration': '0.642',\n",
      " 'Mass': '0.837',\n",
      " 'Mean': 0.806,\n",
      " 'No Finding': '0.806',\n",
      " 'Nodule': '0.776',\n",
      " 'Pleural_Thickening': '0.731',\n",
      " 'Pneumonia': '0.846'}\n"
     ]
    }
   ],
   "source": [
    "ood_detection.max_energy(\"../models/chexnet/cxr14_val.pt\",\n",
    "                         \"../models/chexnet/cxr14_test.pt\",\n",
    "                         \"../models/chexnet/boneage_val.pth\",\n",
    "                         \"../models/chexnet/boneage_test.pth\",\n",
    "                         labels)"
   ]
  }
 ],
 "metadata": {
  "kernelspec": {
   "display_name": "Python 3 (ipykernel)",
   "language": "python",
   "name": "python3"
  },
  "language_info": {
   "codemirror_mode": {
    "name": "ipython",
    "version": 3
   },
   "file_extension": ".py",
   "mimetype": "text/x-python",
   "name": "python",
   "nbconvert_exporter": "python",
   "pygments_lexer": "ipython3",
   "version": "3.8.8"
  }
 },
 "nbformat": 4,
 "nbformat_minor": 5
}
